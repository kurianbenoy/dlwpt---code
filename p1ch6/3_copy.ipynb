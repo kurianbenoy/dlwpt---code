{
 "cells": [
  {
   "cell_type": "code",
   "execution_count": 1,
   "metadata": {},
   "outputs": [],
   "source": [
    "%matplotlib inline\n",
    "import numpy as np\n",
    "import torch\n",
    "import torch.optim as optim\n",
    "import torch.nn as nn\n",
    "\n",
    "torch.set_printoptions(edgeitems=2)"
   ]
  },
  {
   "cell_type": "code",
   "execution_count": 2,
   "metadata": {},
   "outputs": [],
   "source": [
    "seq_model = nn.Sequential(\n",
    "            nn.Linear(1,11),\n",
    "            nn.Tanh(),\n",
    "            nn.Linear(11,1))"
   ]
  },
  {
   "cell_type": "code",
   "execution_count": 3,
   "metadata": {},
   "outputs": [
    {
     "data": {
      "text/plain": [
       "Sequential(\n",
       "  (0): Linear(in_features=1, out_features=11, bias=True)\n",
       "  (1): Tanh()\n",
       "  (2): Linear(in_features=11, out_features=1, bias=True)\n",
       ")"
      ]
     },
     "execution_count": 3,
     "metadata": {},
     "output_type": "execute_result"
    }
   ],
   "source": [
    "seq_model"
   ]
  },
  {
   "cell_type": "code",
   "execution_count": 5,
   "metadata": {},
   "outputs": [
    {
     "data": {
      "text/plain": [
       "Sequential(\n",
       "  (hidden_linear): Linear(in_features=1, out_features=12, bias=True)\n",
       "  (hidden_activation): Tanh()\n",
       "  (output_linear): Linear(in_features=12, out_features=1, bias=True)\n",
       ")"
      ]
     },
     "execution_count": 5,
     "metadata": {},
     "output_type": "execute_result"
    }
   ],
   "source": [
    "from collections import OrderedDict\n",
    "\n",
    "namedseq_model = nn.Sequential(OrderedDict([\n",
    "    ('hidden_linear', nn.Linear(1, 12)),\n",
    "    ('hidden_activation', nn.Tanh()),\n",
    "    ('output_linear', nn.Linear(12 , 1))\n",
    "]))\n",
    "\n",
    "namedseq_model"
   ]
  },
  {
   "cell_type": "code",
   "execution_count": 7,
   "metadata": {},
   "outputs": [],
   "source": [
    "class subclassmodel(nn.Module):\n",
    "    def __init__(self):\n",
    "        super().__init__()\n",
    "        self.hl = nn.Linear(1,13)\n",
    "        self.ha = nn.Tanh()\n",
    "        self.ol = nn.Linear(13,1)\n",
    "        \n",
    "    def forward(self, input):\n",
    "        ht = self.hl(input)\n",
    "        at = self.ha(ht)\n",
    "        ot = self.ol(at)\n",
    "        \n",
    "        return ot"
   ]
  },
  {
   "cell_type": "code",
   "execution_count": 8,
   "metadata": {},
   "outputs": [
    {
     "data": {
      "text/plain": [
       "subclassmodel(\n",
       "  (hl): Linear(in_features=1, out_features=13, bias=True)\n",
       "  (ha): Tanh()\n",
       "  (ol): Linear(in_features=13, out_features=1, bias=True)\n",
       ")"
      ]
     },
     "execution_count": 8,
     "metadata": {},
     "output_type": "execute_result"
    }
   ],
   "source": [
    "sm = subclassmodel()\n",
    "sm"
   ]
  },
  {
   "cell_type": "code",
   "execution_count": 10,
   "metadata": {},
   "outputs": [
    {
     "name": "stdout",
     "output_type": "stream",
     "text": [
      "seq\n",
      "0.weight              torch.Size([11, 1]) 11\n",
      "0.bias                torch.Size([11])    11\n",
      "2.weight              torch.Size([1, 11]) 11\n",
      "2.bias                torch.Size([1])     1\n",
      "\n",
      "namedseq\n",
      "hidden_linear.weight  torch.Size([12, 1]) 12\n",
      "hidden_linear.bias    torch.Size([12])    12\n",
      "output_linear.weight  torch.Size([1, 12]) 12\n",
      "output_linear.bias    torch.Size([1])     1\n",
      "\n",
      "subclass\n",
      "hl.weight             torch.Size([13, 1]) 13\n",
      "hl.bias               torch.Size([13])    13\n",
      "ol.weight             torch.Size([1, 13]) 13\n",
      "ol.bias               torch.Size([1])     1\n",
      "\n"
     ]
    }
   ],
   "source": [
    "for type_str, model in [('seq', seq_model), ('namedseq', namedseq_model), ('subclass', sm)]:\n",
    "    print(type_str)\n",
    "    for name_str, param in model.named_parameters():\n",
    "        print(\"{:21} {:19} {}\".format(name_str, str(param.shape), param.numel()))\n",
    "        \n",
    "    print()"
   ]
  },
  {
   "cell_type": "code",
   "execution_count": 11,
   "metadata": {},
   "outputs": [],
   "source": [
    "class subclassfunctionalmodel(nn.Module):\n",
    "    def __init__(self):\n",
    "        super().__init__()\n",
    "        self.hl = nn.Linear(1,14)\n",
    "    \n",
    "        self.ol = nn.Linear(14,1)\n",
    "        \n",
    "    def forward(self, input):\n",
    "        ht = self.hl(input)\n",
    "        at = torch.tanh(ht)\n",
    "        ot = self.ol(at)\n",
    "        \n",
    "        return ot"
   ]
  },
  {
   "cell_type": "code",
   "execution_count": 12,
   "metadata": {},
   "outputs": [
    {
     "data": {
      "text/plain": [
       "subclassfunctionalmodel(\n",
       "  (hl): Linear(in_features=1, out_features=14, bias=True)\n",
       "  (ol): Linear(in_features=14, out_features=1, bias=True)\n",
       ")"
      ]
     },
     "execution_count": 12,
     "metadata": {},
     "output_type": "execute_result"
    }
   ],
   "source": [
    "func_model = subclassfunctionalmodel()\n",
    "func_model"
   ]
  },
  {
   "cell_type": "code",
   "execution_count": null,
   "metadata": {},
   "outputs": [],
   "source": []
  }
 ],
 "metadata": {
  "kernelspec": {
   "display_name": "Python 3",
   "language": "python",
   "name": "python3"
  },
  "language_info": {
   "codemirror_mode": {
    "name": "ipython",
    "version": 3
   },
   "file_extension": ".py",
   "mimetype": "text/x-python",
   "name": "python",
   "nbconvert_exporter": "python",
   "pygments_lexer": "ipython3",
   "version": "3.7.3"
  }
 },
 "nbformat": 4,
 "nbformat_minor": 2
}
