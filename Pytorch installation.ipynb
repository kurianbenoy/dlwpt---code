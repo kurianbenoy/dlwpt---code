{
 "cells": [
  {
   "cell_type": "code",
   "execution_count": 6,
   "metadata": {},
   "outputs": [],
   "source": [
    "import torch\n"
   ]
  },
  {
   "cell_type": "code",
   "execution_count": 2,
   "metadata": {},
   "outputs": [],
   "source": [
    "import platform"
   ]
  },
  {
   "cell_type": "code",
   "execution_count": 5,
   "metadata": {},
   "outputs": [
    {
     "data": {
      "text/plain": [
       "'3.7.3'"
      ]
     },
     "execution_count": 5,
     "metadata": {},
     "output_type": "execute_result"
    }
   ],
   "source": [
    "platform.python_version()\n"
   ]
  },
  {
   "cell_type": "code",
   "execution_count": 7,
   "metadata": {},
   "outputs": [
    {
     "name": "stdout",
     "output_type": "stream",
     "text": [
      "False\n"
     ]
    }
   ],
   "source": [
    "print(torch.cuda.is_available())"
   ]
  },
  {
   "cell_type": "code",
   "execution_count": 2,
   "metadata": {},
   "outputs": [
    {
     "name": "stdout",
     "output_type": "stream",
     "text": [
      "Collecting tensorflow-gpu\n",
      "\u001b[33m  WARNING: Retrying (Retry(total=4, connect=None, read=None, redirect=None, status=None)) after connection broken by 'NewConnectionError('<pip._vendor.urllib3.connection.VerifiedHTTPSConnection object at 0x7f6c66fb9518>: Failed to establish a new connection: [Errno -2] Name or service not known')': /simple/tensorflow-gpu/\u001b[0m\n",
      "\u001b[33m  WARNING: Retrying (Retry(total=3, connect=None, read=None, redirect=None, status=None)) after connection broken by 'NewConnectionError('<pip._vendor.urllib3.connection.VerifiedHTTPSConnection object at 0x7f6c66fb9668>: Failed to establish a new connection: [Errno -2] Name or service not known')': /simple/tensorflow-gpu/\u001b[0m\n",
      "\u001b[33m  WARNING: Retrying (Retry(total=2, connect=None, read=None, redirect=None, status=None)) after connection broken by 'NewConnectionError('<pip._vendor.urllib3.connection.VerifiedHTTPSConnection object at 0x7f6c66fb9320>: Failed to establish a new connection: [Errno -2] Name or service not known')': /simple/tensorflow-gpu/\u001b[0m\n",
      "\u001b[33m  WARNING: Retrying (Retry(total=1, connect=None, read=None, redirect=None, status=None)) after connection broken by 'NewConnectionError('<pip._vendor.urllib3.connection.VerifiedHTTPSConnection object at 0x7f6c66fb9ba8>: Failed to establish a new connection: [Errno -2] Name or service not known')': /simple/tensorflow-gpu/\u001b[0m\n",
      "\u001b[33m  WARNING: Retrying (Retry(total=0, connect=None, read=None, redirect=None, status=None)) after connection broken by 'NewConnectionError('<pip._vendor.urllib3.connection.VerifiedHTTPSConnection object at 0x7f6c66fb9080>: Failed to establish a new connection: [Errno -2] Name or service not known')': /simple/tensorflow-gpu/\u001b[0m\n",
      "\u001b[31m  ERROR: Could not find a version that satisfies the requirement tensorflow-gpu (from versions: none)\u001b[0m\n",
      "\u001b[31mERROR: No matching distribution found for tensorflow-gpu\u001b[0m\n"
     ]
    }
   ],
   "source": [
    "! pip3 install tensorflow-gpu"
   ]
  },
  {
   "cell_type": "code",
   "execution_count": 3,
   "metadata": {},
   "outputs": [
    {
     "name": "stdout",
     "output_type": "stream",
     "text": [
      "Collecting torch\n",
      "\u001b[?25l  Downloading https://files.pythonhosted.org/packages/f9/34/2107f342d4493b7107a600ee16005b2870b5a0a5a165bdf5c5e7168a16a6/torch-1.3.1-cp37-cp37m-manylinux1_x86_64.whl (734.6MB)\n",
      "\u001b[K     |████████████████████████████████| 734.6MB 63kB/s  eta 0:00:0158:18     |█▍                              | 32.4MB 399kB/s eta 0:29:16     |█▊                              | 39.4MB 108kB/s eta 1:47:04     |████▋                           | 105.1MB 25kB/s eta 6:47:01     |████████                        | 184.5MB 46kB/s eta 3:17:12     |████████▏                       | 187.9MB 370kB/s eta 0:24:35     |████████████▏                   | 280.2MB 192kB/s eta 0:39:21     |████████████▌                   | 287.0MB 61kB/s eta 2:01:02     |█████████████▊                  | 315.6MB 1.2MB/s eta 0:05:53     |█████████████▉                  | 317.7MB 479kB/s eta 0:14:30     |███████████████                 | 345.5MB 905kB/s eta 0:07:10     |███████████████▏                | 347.8MB 404kB/s eta 0:15:57     |███████████████▋                | 359.1MB 779kB/s eta 0:08:02     |███████████████▊                | 360.4MB 636kB/s eta 0:09:48     |████████████████                | 364.9MB 905kB/s eta 0:06:49     |█████████████████▏              | 393.3MB 615kB/s eta 0:09:15     |██████████████████▎             | 419.4MB 565kB/s eta 0:09:18     |██████████████████▉             | 432.7MB 319kB/s eta 0:15:464MB 123kB/s eta 0:26:42��▍       | 559.9MB 61kB/s eta 0:47:36     |████████████████████████▌       | 561.5MB 767kB/s eta 0:03:46     |██████████████████████████▎     | 603.2MB 159kB/s eta 0:13:46     |███████████████████████████▌    | 630.2MB 844kB/s eta 0:02:04\n",
      "\u001b[?25hCollecting torchvision\n",
      "\u001b[?25l  Downloading https://files.pythonhosted.org/packages/74/ee/d872c12ea508f9cca4cf0d7b91fc5a5e476cec77628a66795ec5a585a67f/torchvision-0.4.2-cp37-cp37m-manylinux1_x86_64.whl (10.2MB)\n",
      "\u001b[K     |████████████████████████████████| 10.2MB 827kB/s eta 0:00:01\n",
      "\u001b[?25hRequirement already satisfied: numpy in /home/kurian/Learnings/mlcourse.ai/.env/lib/python3.7/site-packages (from torch) (1.16.4)\n",
      "Requirement already satisfied: pillow>=4.1.1 in /home/kurian/Learnings/mlcourse.ai/.env/lib/python3.7/site-packages (from torchvision) (5.3.0)\n",
      "Requirement already satisfied: six in /home/kurian/Learnings/mlcourse.ai/.env/lib/python3.7/site-packages (from torchvision) (1.12.0)\n",
      "Installing collected packages: torch, torchvision\n",
      "Successfully installed torch-1.3.1 torchvision-0.4.2\n",
      "\u001b[33mWARNING: You are using pip version 19.2.3, however version 19.3.1 is available.\n",
      "You should consider upgrading via the 'pip install --upgrade pip' command.\u001b[0m\n"
     ]
    }
   ],
   "source": [
    "! python3 -m pip install torch torchvision"
   ]
  },
  {
   "cell_type": "code",
   "execution_count": null,
   "metadata": {},
   "outputs": [],
   "source": []
  }
 ],
 "metadata": {
  "kernelspec": {
   "display_name": "Python 3",
   "language": "python",
   "name": "python3"
  },
  "language_info": {
   "codemirror_mode": {
    "name": "ipython",
    "version": 3
   },
   "file_extension": ".py",
   "mimetype": "text/x-python",
   "name": "python",
   "nbconvert_exporter": "python",
   "pygments_lexer": "ipython3",
   "version": "3.7.3"
  }
 },
 "nbformat": 4,
 "nbformat_minor": 2
}
